{
 "cells": [
  {
   "cell_type": "code",
   "execution_count": 1,
   "metadata": {},
   "outputs": [],
   "source": [
    "#1. Обрати реальні дані з kaggle або сгенерувати випадкові дані. Дані мають відповідати вимогам викладеним вище.\n",
    "import pandas as pd\n",
    "import matplotlib.pyplot as plt\n",
    "import seaborn as sns\n",
    "%matplotlib inline\n",
    "from math import sqrt"
   ]
  },
  {
   "cell_type": "code",
   "execution_count": 3,
   "metadata": {},
   "outputs": [
    {
     "data": {
      "text/html": [
       "<div>\n",
       "<style scoped>\n",
       "    .dataframe tbody tr th:only-of-type {\n",
       "        vertical-align: middle;\n",
       "    }\n",
       "\n",
       "    .dataframe tbody tr th {\n",
       "        vertical-align: top;\n",
       "    }\n",
       "\n",
       "    .dataframe thead th {\n",
       "        text-align: right;\n",
       "    }\n",
       "</style>\n",
       "<table border=\"1\" class=\"dataframe\">\n",
       "  <thead>\n",
       "    <tr style=\"text-align: right;\">\n",
       "      <th></th>\n",
       "      <th>French</th>\n",
       "      <th>English</th>\n",
       "    </tr>\n",
       "  </thead>\n",
       "  <tbody>\n",
       "    <tr>\n",
       "      <td>0</td>\n",
       "      <td>150.1</td>\n",
       "      <td>134.8</td>\n",
       "    </tr>\n",
       "    <tr>\n",
       "      <td>1</td>\n",
       "      <td>176.4</td>\n",
       "      <td>164.3</td>\n",
       "    </tr>\n",
       "    <tr>\n",
       "      <td>2</td>\n",
       "      <td>113.9</td>\n",
       "      <td>125.8</td>\n",
       "    </tr>\n",
       "    <tr>\n",
       "      <td>3</td>\n",
       "      <td>199.5</td>\n",
       "      <td>172.4</td>\n",
       "    </tr>\n",
       "    <tr>\n",
       "      <td>4</td>\n",
       "      <td>155.7</td>\n",
       "      <td>190.2</td>\n",
       "    </tr>\n",
       "  </tbody>\n",
       "</table>\n",
       "</div>"
      ],
      "text/plain": [
       "   French  English\n",
       "0   150.1    134.8\n",
       "1   176.4    164.3\n",
       "2   113.9    125.8\n",
       "3   199.5    172.4\n",
       "4   155.7    190.2"
      ]
     },
     "execution_count": 3,
     "metadata": {},
     "output_type": "execute_result"
    }
   ],
   "source": [
    "\n",
    "data = pd.DataFrame({\n",
    "    \"French\":[150.1, 176.4, 113.9, 199.5, 155.7],\n",
    "    \"English\":[134.8, 164.3, 125.8, 172.4, 190.2]\n",
    "})\n",
    "\n",
    "n = data.shape[0]\n",
    "data"
   ]
  },
  {
   "cell_type": "code",
   "execution_count": 5,
   "metadata": {},
   "outputs": [
    {
     "data": {
      "text/plain": [
       "<matplotlib.axes._subplots.AxesSubplot at 0x24b9a67c548>"
      ]
     },
     "execution_count": 5,
     "metadata": {},
     "output_type": "execute_result"
    },
    {
     "data": {
      "image/png": "[encoded data removed]",
      "text/plain": [
       "<Figure size 432x288 with 1 Axes>"
      ]
     },
     "metadata": {
      "needs_background": "light"
     },
     "output_type": "display_data"
    }
   ],
   "source": [
    "#2. Побудувати графік, що відображає розкид даних в групах.\n",
    "sns.boxplot(data=data)"
   ]
  },
  {
   "cell_type": "code",
   "execution_count": 6,
   "metadata": {},
   "outputs": [],
   "source": [
    "#3. для оцінки зв'язку між групами за коефіцієнтом кореляції Пірсона. Функція має повертати значення коефіцієнту кореляції,\n",
    "#значення ступеня свободи та результат оцінки значимості зв'зку (significant або not significant).\n",
    "def func_of_Pirson(data):\n",
    "    r = 0\n",
    "    first = n*(sum(data.iloc[:,0]*data.iloc[:,1]))-(sum(data.iloc[:,0])*sum(data.iloc[:,1]))\n",
    "    second = sqrt((n*sum(data.iloc[:,0]**2)-sum(data.iloc[:,0])**2)*(n*sum(data.iloc[:,1]**2)-sum(data.iloc[:,1])**2))\n",
    "    \n",
    "    r = first/second\n",
    "    df = data.shape[0]-2\n",
    "    c = pd.read_excel(\"C:/Users/Zamri Zortog/Desktop/laba6/Таблиця критичних значень кореляційного аналізу.xlsx\").iloc[df-1, 1]\n",
    "    \n",
    "    print(\"Значення коефіцієнта кореляції: \", r)\n",
    "    print(\"Число ступенів свободи: \", df)\n",
    "    \n",
    "    znach = \"\"\n",
    "    \n",
    "    if r > c:\n",
    "        print(\"Significant: \" + str(r)+\"(дано)\" + \" > \"+ str(c)+\"(табличне)\")\n",
    "        znach = \"significant\"\n",
    "    else:\n",
    "        print(\"Not significant: \"+ str(r)+\"(дано)\" + \" < \"+ str(c)+\"(табличне)\")\n",
    "        znach = \"not significant\"\n",
    "    \n",
    "    ans = [r, df, znach]\n",
    "    return ans"
   ]
  },
  {
   "cell_type": "code",
   "execution_count": 7,
   "metadata": {},
   "outputs": [],
   "source": [
    "#4. для визначення відмінності між групами за критерієм Стьюдента. Функція має повертати значення критерію Стьюдента,значення ступеня свободи та результат оцінки значимості \n",
    "#зв'зку (significant або not significant).\n",
    "def Students(data):\n",
    "    data['Різниця(d)'] = None\n",
    "    for i in range(data.shape[0]):\n",
    "        if data.iloc[i,0] == 0 or data.iloc[i,1] == 0:\n",
    "            data['Різниця(d)'][i] = 0;\n",
    "        else:\n",
    "            data['Різниця(d)'][i] = (data.iloc[i,0] - data.iloc[i,1])\n",
    "    Md = sum(data.iloc[:,2])/n\n",
    "    sum_d = 0\n",
    "    for i in range(n):\n",
    "        sum_d += (data.iloc[i, 2] - Md)**2\n",
    "    sigmaD = sqrt(sum_d/n)\n",
    "    \n",
    "    t = (Md/sigmaD) * sqrt(n)\n",
    "    df = data.shape[0] - 1\n",
    "    c = pd.read_excel(\"C:/Users/Zamri Zortog/Desktop/laba6/Таблица критических значений для парного критерия.xlsx\").iloc[df-1, 1]\n",
    "    print(\"Значення t-критерію Стьюдента: \", t)\n",
    "    print(\"Число ступенів свободи: \", df)\n",
    "    \n",
    "    znach = \"\"\n",
    "    \n",
    "    if t > c:\n",
    "        print(\"Significant: \" + str(t)+\"(Дано)\" + \" > \"+ str(c)+\"(Табличне)\")\n",
    "        znach = \"significant\"\n",
    "    else:\n",
    "        print(\"Not significant: \"+ str(t)+\"(Дано)\" + \" < \"+ str(c)+\"(Табличне)\")\n",
    "        znach = \"not significant\"\n",
    "    \n",
    "    ans = [t, df, znach]\n",
    "    return ans"
   ]
  },
  {
   "cell_type": "code",
   "execution_count": 8,
   "metadata": {},
   "outputs": [
    {
     "name": "stdout",
     "output_type": "stream",
     "text": [
      "Значення коефіцієнта кореляції:  0.6586810626458954\n",
      "Число ступенів свободи:  3\n",
      "Not significant: 0.6586810626458954(дано) < 0.8783(табличне)\n",
      "\n",
      "-----------------------------------------------\n",
      "\n",
      "Значення t-критерію Стьюдента:  0.1641935669430884\n",
      "Число ступенів свободи:  4\n",
      "Not significant: 0.1641935669430884(Дано) < 2.776(Табличне)\n"
     ]
    },
    {
     "name": "stderr",
     "output_type": "stream",
     "text": [
      "C:\\Users\\Zamri Zortog\\Anaconda3\\lib\\site-packages\\ipykernel_launcher.py:9: SettingWithCopyWarning: \n",
      "A value is trying to be set on a copy of a slice from a DataFrame\n",
      "\n",
      "See the caveats in the documentation: http://pandas.pydata.org/pandas-docs/stable/user_guide/indexing.html#returning-a-view-versus-a-copy\n",
      "  if __name__ == '__main__':\n"
     ]
    },
    {
     "data": {
      "text/plain": [
       "[0.1641935669430884, 4, 'not significant']"
      ]
     },
     "execution_count": 8,
     "metadata": {},
     "output_type": "execute_result"
    }
   ],
   "source": [
    "#5. Перевірити розбіжність на між групами на даних з п. 1.\n",
    "func_of_Pirson(data)\n",
    "print(\"\\n-----------------------------------------------\\n\")\n",
    "Students(data)"
   ]
  },
  {
   "cell_type": "code",
   "execution_count": 10,
   "metadata": {},
   "outputs": [],
   "source": [
    "#6. Сформувати висновок про взаємозв'язок між групами та про їх розбіжність.\n",
    "#Виходячи з порівняння по критерію Пірсона, можна  зробити висновок, що звязок в групах  слабкий,\n",
    "#про це говорить отриманий  коефіціент (0.6586810626458954)\n",
    "#Виходяч з порівнянням по критерію Стюдента, можна зробити висновок, що приймається гіпотеза про різницю в средніх"
   ]
  },
  {
   "cell_type": "code",
   "execution_count": null,
   "metadata": {},
   "outputs": [],
   "source": []
  }
 ],
 "metadata": {
  "kernelspec": {
   "display_name": "Python 3",
   "language": "python",
   "name": "python3"
  },
  "language_info": {
   "codemirror_mode": {
    "name": "ipython",
    "version": 3
   },
   "file_extension": ".py",
   "mimetype": "text/x-python",
   "name": "python",
   "nbconvert_exporter": "python",
   "pygments_lexer": "ipython3",
   "version": "3.7.4"
  }
 },
 "nbformat": 4,
 "nbformat_minor": 2
}
