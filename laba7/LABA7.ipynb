{
 "cells": [
  {
   "cell_type": "code",
   "execution_count": 1,
   "metadata": {},
   "outputs": [],
   "source": [
    "#1. Обрати реальні дані з kaggle або сгенерувати випадкові дані. Дані мають відповідати вимогам викладеним вище.\n",
    "import pandas as pd\n",
    "import seaborn as sns\n",
    "import numpy as np\n",
    "from math import sqrt"
   ]
  },
  {
   "cell_type": "code",
   "execution_count": 3,
   "metadata": {},
   "outputs": [
    {
     "data": {
      "text/html": [
       "<div>\n",
       "<style scoped>\n",
       "    .dataframe tbody tr th:only-of-type {\n",
       "        vertical-align: middle;\n",
       "    }\n",
       "\n",
       "    .dataframe tbody tr th {\n",
       "        vertical-align: top;\n",
       "    }\n",
       "\n",
       "    .dataframe thead th {\n",
       "        text-align: right;\n",
       "    }\n",
       "</style>\n",
       "<table border=\"1\" class=\"dataframe\">\n",
       "  <thead>\n",
       "    <tr style=\"text-align: right;\">\n",
       "      <th></th>\n",
       "      <th>Прижок_Групи_А (см)</th>\n",
       "      <th>Прижок_Групи_Б (см)</th>\n",
       "    </tr>\n",
       "  </thead>\n",
       "  <tbody>\n",
       "    <tr>\n",
       "      <td>0</td>\n",
       "      <td>233</td>\n",
       "      <td>183</td>\n",
       "    </tr>\n",
       "    <tr>\n",
       "      <td>1</td>\n",
       "      <td>152</td>\n",
       "      <td>145</td>\n",
       "    </tr>\n",
       "    <tr>\n",
       "      <td>2</td>\n",
       "      <td>239</td>\n",
       "      <td>154</td>\n",
       "    </tr>\n",
       "    <tr>\n",
       "      <td>3</td>\n",
       "      <td>191</td>\n",
       "      <td>136</td>\n",
       "    </tr>\n",
       "    <tr>\n",
       "      <td>4</td>\n",
       "      <td>204</td>\n",
       "      <td>167</td>\n",
       "    </tr>\n",
       "    <tr>\n",
       "      <td>5</td>\n",
       "      <td>112</td>\n",
       "      <td>180</td>\n",
       "    </tr>\n",
       "    <tr>\n",
       "      <td>6</td>\n",
       "      <td>192</td>\n",
       "      <td>221</td>\n",
       "    </tr>\n",
       "  </tbody>\n",
       "</table>\n",
       "</div>"
      ],
      "text/plain": [
       "   Прижок_Групи_А (см)  Прижок_Групи_Б (см)\n",
       "0                  233                  183\n",
       "1                  152                  145\n",
       "2                  239                  154\n",
       "3                  191                  136\n",
       "4                  204                  167\n",
       "5                  112                  180\n",
       "6                  192                  221"
      ]
     },
     "execution_count": 3,
     "metadata": {},
     "output_type": "execute_result"
    }
   ],
   "source": [
    "data = pd.DataFrame({\n",
    "    \"Прижок_Групи_А (см)\":[233, 152, 239, 191, 204, 112, 192],\n",
    "    \"Прижок_Групи_Б (см)\":[183, 145, 154, 136, 167, 180, 221]\n",
    "})\n",
    "\n",
    "n = data.shape[0]\n",
    "data"
   ]
  },
  {
   "cell_type": "code",
   "execution_count": 4,
   "metadata": {},
   "outputs": [
    {
     "data": {
      "text/plain": [
       "<matplotlib.axes._subplots.AxesSubplot at 0x27f7f5c0488>"
      ]
     },
     "execution_count": 4,
     "metadata": {},
     "output_type": "execute_result"
    },
    {
     "data": {
      "image/png": "[encoded data removed]",
      "text/plain": [
       "<Figure size 432x288 with 1 Axes>"
      ]
     },
     "metadata": {
      "needs_background": "light"
     },
     "output_type": "display_data"
    }
   ],
   "source": [
    "#2. Побудувати графік, що відображає розкид даних в групах. Приклад:\n",
    "sns.boxplot(data=data)"
   ]
  },
  {
   "cell_type": "code",
   "execution_count": 8,
   "metadata": {},
   "outputs": [],
   "source": [
    "#3. Написати функції: для оцінки вімінностей дисперсій між групами за критерієм Лівеня. Функція має повертати значення\n",
    "#тесту та результат оцінки рівності дисперсій (significant або not significant).\n",
    "def A(data):\n",
    "    Md1 = sum(data.iloc[:, 0])/n\n",
    "    Md2 = sum(data.iloc[:, 1])/n\n",
    "    sum_1 = 0\n",
    "    sum_2 = 0\n",
    "    for i in range(n):\n",
    "        sum_1 += (data.iloc[i, 0] - Md1)**2\n",
    "    for i in range(n):\n",
    "        sum_2 += (data.iloc[i, 1] - Md2)**2\n",
    "    sigm_1 = sqrt(sum_1/n)\n",
    "    sigm_2 = sqrt(sum_2/n)\n",
    "    \n",
    "    if sigm_1 > sigm_2:\n",
    "        F = sigm_1**2/sigm_2**2\n",
    "    else:\n",
    "        F = sigm_2**2/sigm_1**2\n",
    "    df = n-1\n",
    "    \n",
    "    c = pd.read_excel(\"C:/Users/Zamri Zortog/Desktop/laba7/Таблиця критичних значень для критерію Лівеня.xlsx\").iloc[df, df]\n",
    "    \n",
    "    znach = \"\"\n",
    "    if F > c:\n",
    "        print(\"Not significant: \"+ str(F)+\"(Дано)\" + \" > \"+ str(c)+\"(Табличне)\")\n",
    "        znach = \"not significant\"\n",
    "    else:\n",
    "        print(\"Significant: \"+ str(F)+\"(Дано)\" + \" < \"+ str(c)+\"(Табличне)\")\n",
    "        znach = \"significant\"\n",
    "    \n",
    "    ans = [F, znach]\n",
    "    return ans"
   ]
  },
  {
   "cell_type": "code",
   "execution_count": 11,
   "metadata": {},
   "outputs": [],
   "source": [
    "#4. для визначення відмінності між групами за критерієм Стьюдента в залежності \n",
    "#від рівності/відмінності дисперсій. Функція має повертати значення критерію Стьюдента,значення \n",
    "#ступеня свободи та результат оцінки \n",
    "#значимості зв'зку (significant або not significant).\n",
    "def B(data):\n",
    "    Md1 = sum(data.iloc[:, 0])/n\n",
    "    Md2 = sum(data.iloc[:, 1])/n\n",
    "    sum_1 = 0\n",
    "    sum_2 = 0\n",
    "    for i in range(n):\n",
    "        sum_1 += (data.iloc[i, 0] - Md1)**2\n",
    "    for i in range(n):\n",
    "        sum_2 += (data.iloc[i, 1] - Md2)**2\n",
    "    sigm_1 = sqrt(sum_1/n)\n",
    "    sigm_2 = sqrt(sum_2/n)\n",
    "    \n",
    "    \n",
    "    if sigm_1 == sigm_2:\n",
    "        t = (abs(Md1-Md2))/(sqrt((sigm_1**2/n)+(sigm_2**2/n)))\n",
    "    else:\n",
    "        t = (abs(Md1-Md2))/sqrt((((n-1)*sigm_1**2+(n-2)*sigm_2**2)/(n+n-2))*((1/n)+(1/n)))\n",
    "    \n",
    "    df = n-1\n",
    "    \n",
    "    c = pd.read_excel(\"C:/Users/Zamri Zortog/Desktop/laba7/Таблиця критичних значень для критерію Стьюдента.xlsx\").iloc[df-1, 1]\n",
    "    znach = \"\"\n",
    "    if t > c:\n",
    "        print(\"Not significant: \"+ str(t)+\"(Дано)\" + \" > \"+ str(c)+\"(Табличне)\")\n",
    "        znach = \"not significant\"\n",
    "    else:\n",
    "        print(\"Significant: \"+ str(t)+\"(Дано)\" + \" < \"+ str(c)+\"(Табличне)\")\n",
    "        znach = \"significant\"\n",
    "    \n",
    "    ans = [t, df, znach]\n",
    "    return ans\n"
   ]
  },
  {
   "cell_type": "code",
   "execution_count": 12,
   "metadata": {},
   "outputs": [
    {
     "name": "stdout",
     "output_type": "stream",
     "text": [
      "Significant: 2.436446098383533(Дано) < 4.28(Табличне)\n",
      "------------------------------\n",
      "Significant: 1.0808275052472605(Дано) < 2.447(Табличне)\n"
     ]
    },
    {
     "data": {
      "text/plain": [
       "[1.0808275052472605, 6, 'significant']"
      ]
     },
     "execution_count": 12,
     "metadata": {},
     "output_type": "execute_result"
    }
   ],
   "source": [
    "#5. Перевірити розбіжність на між групами на даних з п. 1.\n",
    "A(data)\n",
    "print(\"------------------------------\")\n",
    "B(data)"
   ]
  },
  {
   "cell_type": "code",
   "execution_count": null,
   "metadata": {},
   "outputs": [],
   "source": []
  }
 ],
 "metadata": {
  "kernelspec": {
   "display_name": "Python 3",
   "language": "python",
   "name": "python3"
  },
  "language_info": {
   "codemirror_mode": {
    "name": "ipython",
    "version": 3
   },
   "file_extension": ".py",
   "mimetype": "text/x-python",
   "name": "python",
   "nbconvert_exporter": "python",
   "pygments_lexer": "ipython3",
   "version": "3.7.4"
  }
 },
 "nbformat": 4,
 "nbformat_minor": 2
}
